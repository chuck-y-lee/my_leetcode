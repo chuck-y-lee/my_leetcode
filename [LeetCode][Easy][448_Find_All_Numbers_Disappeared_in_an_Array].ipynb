{
  "nbformat": 4,
  "nbformat_minor": 0,
  "metadata": {
    "colab": {
      "name": "[LeetCode][Easy][448. Find All Numbers Disappeared in an Array].ipynb",
      "provenance": [],
      "collapsed_sections": [],
      "authorship_tag": "ABX9TyN6SgVH7RTAH/lHgoC6gUdF",
      "include_colab_link": true
    },
    "kernelspec": {
      "name": "python3",
      "display_name": "Python 3"
    }
  },
  "cells": [
    {
      "cell_type": "markdown",
      "metadata": {
        "id": "view-in-github",
        "colab_type": "text"
      },
      "source": [
        "<a href=\"https://colab.research.google.com/github/chuck-y-lee/my_leetcode/blob/master/%5BLeetCode%5D%5BEasy%5D%5B448_Find_All_Numbers_Disappeared_in_an_Array%5D.ipynb\" target=\"_parent\"><img src=\"https://colab.research.google.com/assets/colab-badge.svg\" alt=\"Open In Colab\"/></a>"
      ]
    },
    {
      "cell_type": "markdown",
      "metadata": {
        "id": "5F7UeF708OPc",
        "colab_type": "text"
      },
      "source": [
        "\n",
        "# 448. Find All Numbers Disappeared in an Array\n",
        "Given an array of integers where 1 ≤ a[i] ≤ n (n = size of array), some elements appear twice and others appear once.\n",
        "\n",
        "Find all the elements of [1, n] inclusive that do not appear in this array.\n",
        "\n",
        "Could you do it without extra space and in O(n) runtime? You may assume the returned list does not count as extra space.\n",
        "\n",
        "\n",
        "Example:\n",
        "\n",
        "<pre>\n",
        "Input:\n",
        "[4,3,2,7,8,2,3,1]\n",
        "\n",
        "Output:\n",
        "[5,6]\n",
        "</pre>"
      ]
    },
    {
      "cell_type": "markdown",
      "metadata": {
        "id": "eRPd3gZZ8wJW",
        "colab_type": "text"
      },
      "source": [
        "# Solution 1\n",
        "\n",
        "Use Counter and find missing elements from it by picking up number which count = 0"
      ]
    },
    {
      "cell_type": "code",
      "metadata": {
        "id": "wa9k-PSn7m8I",
        "colab_type": "code",
        "colab": {}
      },
      "source": [
        "from collections import Counter\n",
        "class Solution1(object):\n",
        "    def findDisappearedNumbers(self, nums):\n",
        "        ans = []\n",
        "        counter = Counter(nums)\n",
        "        for idx in range(len(nums)):\n",
        "            if counter[idx+1] == 0:\n",
        "                ans.append(idx+1)\n",
        "        \n",
        "        return ans"
      ],
      "execution_count": 0,
      "outputs": []
    },
    {
      "cell_type": "markdown",
      "metadata": {
        "id": "P2-krRV93Gmc",
        "colab_type": "text"
      },
      "source": [
        "# Solution 2\n",
        "<b>Two pass</b><p>\n",
        "- First pass to label duplicate element by value -1 <p> \n",
        " - Iterate each element in nums list.<p>\n",
        "  For each number, swap the number with the other number in its place until the place have the correct number ( nums[idx] = idx+1 )<p>\n",
        "- 2nd pass to pick up value -1\n",
        " "
      ]
    },
    {
      "cell_type": "code",
      "metadata": {
        "id": "9UDEC5Aq4fhx",
        "colab_type": "code",
        "colab": {}
      },
      "source": [
        "class Solution2(object):\n",
        "    def findDisappearedNumbers(self, nums):\n",
        "        \"\"\"\n",
        "        :type nums: List[int]\n",
        "        :rtype: List[int]\n",
        "        \"\"\"\n",
        "        ans = []\n",
        "\n",
        "        # first pass: set duplicate number to -1\n",
        "\n",
        "        for idx in range(len(nums)):\n",
        "            while nums[idx] !=-1 and idx+1 != nums[idx]:\n",
        "                reindex = nums[idx]-1\n",
        "                if nums[reindex] == nums[idx]: # number duplicate, set it to -1\n",
        "                    nums[idx] = -1\n",
        "                    break\n",
        "                else: # swap the current processed number to right place and continue to process next\n",
        "                    nums[reindex],nums[idx] = nums[idx], nums[reindex]\n",
        "\n",
        "        # 2nd pass: pick up missing numbers        \n",
        "        for idx in range(len(nums)):\n",
        "            if nums[idx] == -1:\n",
        "                ans.append(idx+1)\n",
        "        \n",
        "        return ans"
      ],
      "execution_count": 0,
      "outputs": []
    },
    {
      "cell_type": "markdown",
      "metadata": {
        "id": "YZCkbyQA5qzj",
        "colab_type": "text"
      },
      "source": [
        "# Solution 3\n",
        "Use the sign to reuse the nums list\n",
        "- First pass to use present number as index to make the number in the place negative (*-1)\n",
        "- Second pass to pick up missing numbers by checking whether the number > 0"
      ]
    },
    {
      "cell_type": "code",
      "metadata": {
        "id": "KTMyHAYc6l2o",
        "colab_type": "code",
        "colab": {}
      },
      "source": [
        "class Solution3(object):\n",
        "    def findDisappearedNumbers(self, nums):\n",
        "        ans = []\n",
        "        \n",
        "        for num in nums:\n",
        "            if nums[abs(num)-1] > 0: \n",
        "                nums[abs(num)-1] *= -1\n",
        "\n",
        "        for idx in range(0,len(nums)):\n",
        "            if nums[idx] > 0:\n",
        "                ans.append(idx+1 )\n",
        "        \n",
        "        return ans"
      ],
      "execution_count": 0,
      "outputs": []
    },
    {
      "cell_type": "markdown",
      "metadata": {
        "id": "XMNmLpUk9C4e",
        "colab_type": "text"
      },
      "source": [
        "# Simple Test"
      ]
    },
    {
      "cell_type": "code",
      "metadata": {
        "id": "B6mrCOPG9D6B",
        "colab_type": "code",
        "outputId": "1d2e81b2-0d49-447b-81b1-b10821545dba",
        "colab": {
          "base_uri": "https://localhost:8080/",
          "height": 374
        }
      },
      "source": [
        "Solutions = (Solution1(),Solution2(),Solution3())\n",
        "cases = [\n",
        "    ([4,3,2,7,8,2,3,1],[5,6]),\n",
        "    ([1],[]),\n",
        "    ([1,3,2],[]),\n",
        "    ([1,3,3],[2]),    \n",
        "]\n",
        "\n",
        "for sol in Solutions:\n",
        "  print(sol.__class__)  \n",
        "  for _in,ans in cases:    \n",
        "      _ans = sol.findDisappearedNumbers(_in[:])\n",
        "      print(\"{} missing numbers=>{}\".format(_in,_ans))\n",
        "      assert ans == _ans\n",
        "  print('=============\\n')      "
      ],
      "execution_count": 15,
      "outputs": [
        {
          "output_type": "stream",
          "text": [
            "<class '__main__.Solution1'>\n",
            "[4, 3, 2, 7, 8, 2, 3, 1] missing numbers=>[5, 6]\n",
            "[1] missing numbers=>[]\n",
            "[1, 3, 2] missing numbers=>[]\n",
            "[1, 3, 3] missing numbers=>[2]\n",
            "=============\n",
            "\n",
            "<class '__main__.Solution2'>\n",
            "[4, 3, 2, 7, 8, 2, 3, 1] missing numbers=>[5, 6]\n",
            "[1] missing numbers=>[]\n",
            "[1, 3, 2] missing numbers=>[]\n",
            "[1, 3, 3] missing numbers=>[2]\n",
            "=============\n",
            "\n",
            "<class '__main__.Solution3'>\n",
            "[4, 3, 2, 7, 8, 2, 3, 1] missing numbers=>[5, 6]\n",
            "[1] missing numbers=>[]\n",
            "[1, 3, 2] missing numbers=>[]\n",
            "[1, 3, 3] missing numbers=>[2]\n",
            "=============\n",
            "\n"
          ],
          "name": "stdout"
        }
      ]
    }
  ]
}