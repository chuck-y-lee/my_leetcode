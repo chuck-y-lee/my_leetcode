{
  "nbformat": 4,
  "nbformat_minor": 0,
  "metadata": {
    "colab": {
      "name": "[Leatcode][Easy][1196. How Many Apples Can You Put into the Basket].ipynb",
      "provenance": [],
      "collapsed_sections": [],
      "authorship_tag": "ABX9TyORhuDUVHTIisLuua9ByEbA",
      "include_colab_link": true
    },
    "kernelspec": {
      "name": "python3",
      "display_name": "Python 3"
    }
  },
  "cells": [
    {
      "cell_type": "markdown",
      "metadata": {
        "id": "view-in-github",
        "colab_type": "text"
      },
      "source": [
        "<a href=\"https://colab.research.google.com/github/chuck-y-lee/my_leetcode/blob/master/Easy/%5BLeatcode%5D%5BEasy%5D%5B1196_How_Many_Apples_Can_You_Put_into_the_Basket%5D.ipynb\" target=\"_parent\"><img src=\"https://colab.research.google.com/assets/colab-badge.svg\" alt=\"Open In Colab\"/></a>"
      ]
    },
    {
      "cell_type": "markdown",
      "metadata": {
        "id": "5F7UeF708OPc",
        "colab_type": "text"
      },
      "source": [
        "# 1196. How Many Apples Can You Put into the Basket\n",
        "<pre>\n",
        "You have some apples, where arr[i] is the weight of the i-th apple.  \n",
        "You also have a basket that can carry up to 5000 units of weight.\n",
        "Return the maximum number of apples you can put in the basket.\n",
        "\n",
        " \n",
        "Example 1:\n",
        "\n",
        "Input: arr = [100,200,150,1000]\n",
        "Output: 4\n",
        "Explanation: All 4 apples can be carried by the basket since their sum of weights is 1450.\n",
        "Example 2:\n",
        "\n",
        "Input: arr = [900,950,800,1000,700,800]\n",
        "Output: 5\n",
        "Explanation: The sum of weights of the 6 apples exceeds 5000 so we choose any 5 of them.\n",
        " \n",
        "\n",
        "Constraints:\n",
        "\n",
        "1 <= arr.length <= 10^3\n",
        "1 <= arr[i] <= 10^3\n",
        "</pre>"
      ]
    },
    {
      "cell_type": "markdown",
      "metadata": {
        "id": "eRPd3gZZ8wJW",
        "colab_type": "text"
      },
      "source": [
        "# Solution"
      ]
    },
    {
      "cell_type": "code",
      "metadata": {
        "id": "wa9k-PSn7m8I",
        "colab_type": "code",
        "colab": {}
      },
      "source": [
        "class Solution(object):\n",
        "    def maxNumberOfApples(self, arr):\n",
        "        \"\"\"\n",
        "        :type arr: List[int]\n",
        "        :rtype: int\n",
        "        \"\"\"\n",
        "        arr.sort(reverse=True)\n",
        "        cnt = 0\n",
        "        max_weight = 5000\n",
        "        while arr and max_weight - arr[-1] >= 0:\n",
        "            max_weight -= arr.pop()\n",
        "            cnt +=1\n",
        "\n",
        "        return cnt"
      ],
      "execution_count": 0,
      "outputs": []
    },
    {
      "cell_type": "markdown",
      "metadata": {
        "id": "XMNmLpUk9C4e",
        "colab_type": "text"
      },
      "source": [
        "# Test"
      ]
    },
    {
      "cell_type": "code",
      "metadata": {
        "id": "B6mrCOPG9D6B",
        "colab_type": "code",
        "colab": {
          "base_uri": "https://localhost:8080/",
          "height": 119
        },
        "outputId": "cb65185d-a2b5-4f83-ebee-456996e84f0a"
      },
      "source": [
        "sol = Solution()\n",
        "\n",
        "cases = [\n",
        " ([900,950,800,1000,700,800],5),\n",
        " ([100,200,300,400],4),\n",
        " ([5]*1000,1000),\n",
        " ([5000],1),\n",
        " ([4999,1,5],2),\n",
        " ([1],1)\n",
        "]\n",
        "\n",
        "for _input,ans in cases:\n",
        "  _ans = sol.maxNumberOfApples(_input[:])\n",
        "  print(\"The maximum number of apples from {} I can put in the basket:{}\".format(str(_input)[:100], _ans))\n",
        "  assert _ans == ans\n"
      ],
      "execution_count": 10,
      "outputs": [
        {
          "output_type": "stream",
          "text": [
            "The maximum number of apples from [900, 950, 800, 1000, 700, 800] I can put in the basket:5\n",
            "The maximum number of apples from [100, 200, 300, 400] I can put in the basket:4\n",
            "The maximum number of apples from [5, 5, 5, 5, 5, 5, 5, 5, 5, 5, 5, 5, 5, 5, 5, 5, 5, 5, 5, 5, 5, 5, 5, 5, 5, 5, 5, 5, 5, 5, 5, 5, 5,  I can put in the basket:1000\n",
            "The maximum number of apples from [5000] I can put in the basket:1\n",
            "The maximum number of apples from [4999, 1, 5] I can put in the basket:2\n",
            "The maximum number of apples from [1] I can put in the basket:1\n"
          ],
          "name": "stdout"
        }
      ]
    }
  ]
}